{
 "cells": [
  {
   "cell_type": "markdown",
   "id": "8cceb86e",
   "metadata": {},
   "source": [
    "### 1. 모듈 설치"
   ]
  },
  {
   "cell_type": "code",
   "execution_count": 1,
   "id": "f9a79b93",
   "metadata": {},
   "outputs": [],
   "source": [
    "import numpy as np\n",
    "import pandas as pd\n",
    "from bs4 import BeautifulSoup\n",
    "import selenium\n",
    "from selenium import webdriver\n",
    "from selenium.webdriver.common.by import By\n",
    "from selenium.webdriver.chrome.service import Service\n",
    "from webdriver_manager.chrome import ChromeDriverManager\n",
    "from selenium.webdriver.common.keys import Keys\n",
    "from selenium.common.exceptions import NoSuchElementException, NoSuchFrameException, WebDriverException, UnexpectedAlertPresentException\n",
    "import requests\n",
    "from urllib.request import urlopen\n",
    "\n",
    "import os\n",
    "import sys\n",
    "import urllib.request\n",
    "import urllib.parse\n",
    "import json\n",
    "import re\n",
    "import time"
   ]
  },
  {
   "cell_type": "markdown",
   "id": "d5d62a55",
   "metadata": {},
   "source": [
    "#### 네이버 API\n",
    "- 60dTEJyX2yyoj4KzYXt8\n",
    "- F3gbSu096f"
   ]
  },
  {
   "cell_type": "markdown",
   "id": "d2f1f7bc",
   "metadata": {},
   "source": [
    "### 2. 데이터 불러오기"
   ]
  },
  {
   "cell_type": "code",
   "execution_count": 3,
   "id": "888865a8",
   "metadata": {},
   "outputs": [
    {
     "data": {
      "text/html": [
       "<div>\n",
       "<style scoped>\n",
       "    .dataframe tbody tr th:only-of-type {\n",
       "        vertical-align: middle;\n",
       "    }\n",
       "\n",
       "    .dataframe tbody tr th {\n",
       "        vertical-align: top;\n",
       "    }\n",
       "\n",
       "    .dataframe thead th {\n",
       "        text-align: right;\n",
       "    }\n",
       "</style>\n",
       "<table border=\"1\" class=\"dataframe\">\n",
       "  <thead>\n",
       "    <tr style=\"text-align: right;\">\n",
       "      <th></th>\n",
       "      <th>Unnamed: 0</th>\n",
       "      <th>title</th>\n",
       "      <th>link</th>\n",
       "      <th>description</th>\n",
       "      <th>bloggername</th>\n",
       "      <th>bloggerlink</th>\n",
       "      <th>postdate</th>\n",
       "    </tr>\n",
       "  </thead>\n",
       "  <tbody>\n",
       "    <tr>\n",
       "      <th>0</th>\n",
       "      <td>0</td>\n",
       "      <td>대전 &lt;b&gt;한밭수목원&lt;/b&gt;(서원)</td>\n",
       "      <td>https://blog.naver.com/risoha/223389586693</td>\n",
       "      <td>천리포수목원에서 처음 봤었는데 목련중에선 조금 늦게 개화하는 편이라고 나중에 확인하...</td>\n",
       "      <td>안과 밖 여행, 흔적</td>\n",
       "      <td>blog.naver.com/risoha</td>\n",
       "      <td>20240320</td>\n",
       "    </tr>\n",
       "    <tr>\n",
       "      <th>1</th>\n",
       "      <td>1</td>\n",
       "      <td>&lt;b&gt;한밭수목원&lt;/b&gt; 나들이</td>\n",
       "      <td>https://blog.naver.com/nodak59/223367418361</td>\n",
       "      <td>워낙 수목원 등을 좋아해서 아이들보다 제가 더 신나한것 같기도 하지만요. &lt;b&gt;한밭...</td>\n",
       "      <td>노닥창고</td>\n",
       "      <td>blog.naver.com/nodak59</td>\n",
       "      <td>20240228</td>\n",
       "    </tr>\n",
       "    <tr>\n",
       "      <th>2</th>\n",
       "      <td>2</td>\n",
       "      <td>&lt;b&gt;한밭수목원&lt;/b&gt; 대전곤충생태관 / 아이랑갈만한곳</td>\n",
       "      <td>https://blog.naver.com/dorablewa/223358862414</td>\n",
       "      <td>어제 포스팅에 이어 대전에서 들렀던 &lt;b&gt;한밭수목원&lt;/b&gt; 곤충생태관 포스팅!! 대...</td>\n",
       "      <td>day by day</td>\n",
       "      <td>blog.naver.com/dorablewa</td>\n",
       "      <td>20240219</td>\n",
       "    </tr>\n",
       "  </tbody>\n",
       "</table>\n",
       "</div>"
      ],
      "text/plain": [
       "   Unnamed: 0                           title  \\\n",
       "0           0             대전 <b>한밭수목원</b>(서원)   \n",
       "1           1                <b>한밭수목원</b> 나들이   \n",
       "2           2  <b>한밭수목원</b> 대전곤충생태관 / 아이랑갈만한곳   \n",
       "\n",
       "                                            link  \\\n",
       "0     https://blog.naver.com/risoha/223389586693   \n",
       "1    https://blog.naver.com/nodak59/223367418361   \n",
       "2  https://blog.naver.com/dorablewa/223358862414   \n",
       "\n",
       "                                         description  bloggername  \\\n",
       "0  천리포수목원에서 처음 봤었는데 목련중에선 조금 늦게 개화하는 편이라고 나중에 확인하...  안과 밖 여행, 흔적   \n",
       "1  워낙 수목원 등을 좋아해서 아이들보다 제가 더 신나한것 같기도 하지만요. <b>한밭...         노닥창고   \n",
       "2  어제 포스팅에 이어 대전에서 들렀던 <b>한밭수목원</b> 곤충생태관 포스팅!! 대...   day by day   \n",
       "\n",
       "                bloggerlink  postdate  \n",
       "0     blog.naver.com/risoha  20240320  \n",
       "1    blog.naver.com/nodak59  20240228  \n",
       "2  blog.naver.com/dorablewa  20240219  "
      ]
     },
     "execution_count": 3,
     "metadata": {},
     "output_type": "execute_result"
    }
   ],
   "source": [
    "data = pd.read_csv('./data/대전.csv')\n",
    "data.head(3)"
   ]
  },
  {
   "cell_type": "code",
   "execution_count": 4,
   "id": "e40410a4",
   "metadata": {},
   "outputs": [
    {
     "data": {
      "text/plain": [
       "3750"
      ]
     },
     "execution_count": 4,
     "metadata": {},
     "output_type": "execute_result"
    }
   ],
   "source": [
    "# 블로그 정보 데이터프레임에서 link 열값 추출하기 - 개수 확인 (3750개)\n",
    "len(data.link)"
   ]
  },
  {
   "cell_type": "code",
   "execution_count": 5,
   "id": "1135b7e4",
   "metadata": {},
   "outputs": [
    {
     "data": {
      "text/plain": [
       "3750"
      ]
     },
     "execution_count": 5,
     "metadata": {},
     "output_type": "execute_result"
    }
   ],
   "source": [
    "# links 변수에 위에서 추출한 link 값 저장\n",
    "links = [link for link in data.link]\n",
    "len(links)"
   ]
  },
  {
   "cell_type": "code",
   "execution_count": null,
   "id": "32fcc189",
   "metadata": {},
   "outputs": [],
   "source": [
    "#중간에 중단된 경우\n",
    "links = [link for link in data.link[851:2880]]\n",
    "len(links)"
   ]
  },
  {
   "cell_type": "markdown",
   "id": "c082ff2a",
   "metadata": {},
   "source": [
    "### 3. 크롤링"
   ]
  },
  {
   "cell_type": "code",
   "execution_count": 6,
   "id": "a8dc940c",
   "metadata": {},
   "outputs": [],
   "source": [
    "service = Service(executable_path=ChromeDriverManager().install())\n",
    "driver = webdriver.Chrome(service=service)\n",
    "driver.implicitly_wait(3)"
   ]
  },
  {
   "cell_type": "code",
   "execution_count": 7,
   "id": "24c6a1e9",
   "metadata": {},
   "outputs": [],
   "source": [
    "#블로그 링크 하나씩 불러서 크롤링\n",
    "contents = []\n",
    "for i in links:\n",
    "    #블로그 링크 하나씩 불러오기\n",
    "    try: driver.get(i)\n",
    "    except WebDriverException:\n",
    "        contents.append('')\n",
    "        continue\n",
    "    time.sleep(1)\n",
    "    try:\n",
    "        #블로그 안 본문이 있는 iframe에 접근하기\n",
    "        driver.switch_to.frame(\"mainFrame\")\n",
    "    except (NoSuchFrameException, UnexpectedAlertPresentException):\n",
    "        contents.append('')\n",
    "        continue\n",
    "    #본문 내용 크롤링하기\n",
    "    try:\n",
    "        a = driver.find_element(By.CSS_SELECTOR,'div.se-main-container').text\n",
    "        contents.append(a)\n",
    "    # NoSuchElement 오류시 예외처리(구버전 블로그에 적용)\n",
    "    except NoSuchElementException:\n",
    "        #a = driver.find_element(By.CSS_SELECTOR,'div#content-area').text\n",
    "        contents.append('')\n",
    "    \n",
    "driver.quit() #창닫기"
   ]
  },
  {
   "cell_type": "code",
   "execution_count": 8,
   "id": "92d6f971",
   "metadata": {},
   "outputs": [
    {
     "data": {
      "text/plain": [
       "3750"
      ]
     },
     "execution_count": 8,
     "metadata": {},
     "output_type": "execute_result"
    }
   ],
   "source": [
    "# 중간에 오류가 나서 실행이 멈추면 contents에 오류발생전까지 내용들 들어와있는지 확인해보기\n",
    "len(contents)"
   ]
  },
  {
   "cell_type": "code",
   "execution_count": 9,
   "id": "82d505e3",
   "metadata": {},
   "outputs": [
    {
     "data": {
      "text/html": [
       "<div>\n",
       "<style scoped>\n",
       "    .dataframe tbody tr th:only-of-type {\n",
       "        vertical-align: middle;\n",
       "    }\n",
       "\n",
       "    .dataframe tbody tr th {\n",
       "        vertical-align: top;\n",
       "    }\n",
       "\n",
       "    .dataframe thead th {\n",
       "        text-align: right;\n",
       "    }\n",
       "</style>\n",
       "<table border=\"1\" class=\"dataframe\">\n",
       "  <thead>\n",
       "    <tr style=\"text-align: right;\">\n",
       "      <th></th>\n",
       "      <th>Texts</th>\n",
       "    </tr>\n",
       "  </thead>\n",
       "  <tbody>\n",
       "    <tr>\n",
       "      <th>0</th>\n",
       "      <td>일요일에 다시한번 대전 한밭수목원을 찾았다\\n지난번 동원일부만 보고와서 이번엔 서원...</td>\n",
       "    </tr>\n",
       "    <tr>\n",
       "      <th>1</th>\n",
       "      <td>한밭수목원\\n대전광역시 서구 둔산대로 169\\n이제 곧 3월입니다.\\n날씨는 영상과...</td>\n",
       "    </tr>\n",
       "    <tr>\n",
       "      <th>2</th>\n",
       "      <td>어제 포스팅에 이어 대전에서 들렀던\\n한밭수목원 곤충생태관 포스팅!!\\n대전 곤충생...</td>\n",
       "    </tr>\n",
       "    <tr>\n",
       "      <th>3</th>\n",
       "      <td>안녕하세요?! 보링보링입니다. ^^*\\n얼마 전 낭군과 함께 두 아이를 데리고\\n대...</td>\n",
       "    </tr>\n",
       "    <tr>\n",
       "      <th>4</th>\n",
       "      <td>[4월 소식] #대전서구 #대전서구소식 #4월소식\\n서구로 떠나는 모험\\n대전시민의...</td>\n",
       "    </tr>\n",
       "    <tr>\n",
       "      <th>...</th>\n",
       "      <td>...</td>\n",
       "    </tr>\n",
       "    <tr>\n",
       "      <th>3745</th>\n",
       "      <td>향적산 치유의숲 가벼운 트레킹으로 생태숲을 즐기다!\\n◆ 태조 이성계가 국사를 논했...</td>\n",
       "    </tr>\n",
       "    <tr>\n",
       "      <th>3746</th>\n",
       "      <td>충청남도 서해안과 전라도 서해안은 초겨울 다설지로 유명하다. 겨울철 차가운 북서풍이...</td>\n",
       "    </tr>\n",
       "    <tr>\n",
       "      <th>3747</th>\n",
       "      <td>서천여행 서천 치유의숲에서의 힐링\\n요즘 많은 분이 산을 찾으면서 자신의 건강을 돌...</td>\n",
       "    </tr>\n",
       "    <tr>\n",
       "      <th>3748</th>\n",
       "      <td>제주도 3주 살기\\n제주도 유모차 가능\\n제주도 아기랑 가볼만한 곳\\n3일차\\n서귀...</td>\n",
       "    </tr>\n",
       "    <tr>\n",
       "      <th>3749</th>\n",
       "      <td>일자:2024년1월20일(2024-04).\\n구간:전남 화순군 화순읍 동구리 무등산...</td>\n",
       "    </tr>\n",
       "  </tbody>\n",
       "</table>\n",
       "<p>3750 rows × 1 columns</p>\n",
       "</div>"
      ],
      "text/plain": [
       "                                                  Texts\n",
       "0     일요일에 다시한번 대전 한밭수목원을 찾았다\\n지난번 동원일부만 보고와서 이번엔 서원...\n",
       "1     한밭수목원\\n대전광역시 서구 둔산대로 169\\n이제 곧 3월입니다.\\n날씨는 영상과...\n",
       "2     어제 포스팅에 이어 대전에서 들렀던\\n한밭수목원 곤충생태관 포스팅!!\\n대전 곤충생...\n",
       "3     안녕하세요?! 보링보링입니다. ^^*\\n얼마 전 낭군과 함께 두 아이를 데리고\\n대...\n",
       "4     [4월 소식] #대전서구 #대전서구소식 #4월소식\\n서구로 떠나는 모험\\n대전시민의...\n",
       "...                                                 ...\n",
       "3745  향적산 치유의숲 가벼운 트레킹으로 생태숲을 즐기다!\\n◆ 태조 이성계가 국사를 논했...\n",
       "3746  충청남도 서해안과 전라도 서해안은 초겨울 다설지로 유명하다. 겨울철 차가운 북서풍이...\n",
       "3747  서천여행 서천 치유의숲에서의 힐링\\n요즘 많은 분이 산을 찾으면서 자신의 건강을 돌...\n",
       "3748  제주도 3주 살기\\n제주도 유모차 가능\\n제주도 아기랑 가볼만한 곳\\n3일차\\n서귀...\n",
       "3749  일자:2024년1월20일(2024-04).\\n구간:전남 화순군 화순읍 동구리 무등산...\n",
       "\n",
       "[3750 rows x 1 columns]"
      ]
     },
     "execution_count": 9,
     "metadata": {},
     "output_type": "execute_result"
    }
   ],
   "source": [
    "# 오류 발생전까지 받아온 contents들 먼저 데이터프레임으로 바꾸고 저장해두기!\n",
    "a = pd.DataFrame({'Texts': contents})\n",
    "a"
   ]
  },
  {
   "cell_type": "code",
   "execution_count": 20,
   "id": "0611d8e2",
   "metadata": {},
   "outputs": [
    {
     "data": {
      "text/plain": [
       "'#아홉산 산행\\n#회동동 버스종점~#부산치유의 숲\\n2024. 1. 20(토)\\n#부산등산클럽\\n매주 셋째주 토요일 산행, 누구라도 환영합니다. 편안하게 오셔요, 회비 2만원\\n가다가~먹다가~쉬다가~놀다가~구경하다가~농담하다가~걷다가 갑니다~\\n☎ 010-5543-2277\\n잠을 거의 못잤지만,\\n#TRGO\\n운동하기 전에 에너지 UP!\\n나의 애용품, 힘이 절대로 안딸리고요 오히려 넘처나요~~운동선수에게 추천! 한 번만 먹어보면 알 수 있어요~~정말인데 사람들이 믿지를 않아서 이야기 안함~ㅋ\\n#파마넥스\\n09:55 회동동 버스종점 이곳에서 출발!\\n10:07분 도착한\\n이곳이 아홉산 산행입구가 아닙니다\\n언덕을 넘어가야 해요\\n10:13에 도착한 이곳이 등산로 입구입니다\\n첫번째 철탑에서 언덕을 하나 넘어가면 이곳이 나옵니다.\\n로프를 타야 하네요\\n길을 새롭게 만들면서 정리가 된 것 같아ㅛ\\n철탑에서 차 한잔 하고 출발했더니\\n하양봉 전망대 도착하니\\n11:00\\n이 표지가 계속 있어요\\n00:00\\n00:22\\n\\n아홉산 우중의 능선길\\n00:00\\n00:00\\n\\n아홉산 우중의 산향\\n비바람이 장난이 아니네요~~\\n집에 있으면 뭐하노\\n우중의 운치를 즐겨야지~~ㅎ\\n11:48\\n여기가 정상이 아닙니다요 더 가야해요\\n길따라 더 앞으로 Go!\\n12:00\\n점심이나 먹고 가자~~\\n산중에 따뜻한 진한 맛의 하동댁 재첩국이라~~\\n정말 맛있시유~~\\n12:44 드뎌 하홉산 정상도착!\\n다시 백하여 정상을 오르기 직전에 있는 삼거리길에서 부산치유의숲 방향으로 하산 결정하여\\n01:19 하산중에 한 컷!\\n장년산으로 하산할 것인가?\\n아니면 치유의 숲 입구로 하산할 것인가?\\n비바람이 점 점 심해져서 치유의 숲입구로 하산\\n01:35 부산치유의 숲 입구 도착\\n버스가 없다\\n콜 택시 불렀는데 운좋게 택시 기사님이 실수로 콜을 했다고 한다.\\n장전역까지 택시비 만원이지만 고마움에 추가 5천원을 더 주었다\\n14:40 장전역앞 커피숍에서 하잔 마무리'"
      ]
     },
     "execution_count": 20,
     "metadata": {},
     "output_type": "execute_result"
    }
   ],
   "source": [
    "# 개별 텍스트 잘 크롤링되었는지 확인\n",
    "a.Texts.iloc[-1]"
   ]
  },
  {
   "cell_type": "code",
   "execution_count": 21,
   "id": "2984bc61",
   "metadata": {},
   "outputs": [],
   "source": [
    "# 파일 csv로 저장\n",
    "a.to_csv('대전.csv', index=False, encoding='utf-8')"
   ]
  },
  {
   "cell_type": "markdown",
   "id": "abba1a3e",
   "metadata": {},
   "source": [
    "### 4. 크롤링이 중단되어 여러번 나눠질 경우 CONCAT"
   ]
  },
  {
   "cell_type": "code",
   "execution_count": null,
   "id": "eaa64894",
   "metadata": {},
   "outputs": [],
   "source": [
    "a.to_csv('대구1차.csv', index=False, encoding='utf-8')"
   ]
  },
  {
   "cell_type": "code",
   "execution_count": null,
   "id": "128954f6",
   "metadata": {},
   "outputs": [],
   "source": [
    "a.to_csv('대구2차.csv', index=False, encoding='utf-8')"
   ]
  },
  {
   "cell_type": "code",
   "execution_count": null,
   "id": "cdac4ce9",
   "metadata": {},
   "outputs": [],
   "source": [
    "a.to_csv('대구3차.csv', index=False, encoding='utf-8')"
   ]
  },
  {
   "cell_type": "code",
   "execution_count": null,
   "id": "34623207",
   "metadata": {},
   "outputs": [],
   "source": [
    "df1 = pd.read_csv('data/대구1차.csv')\n",
    "df2 = pd.read_csv('data/대구2차.csv')\n",
    "df3 = pd.read_csv('data/대구3차.csv')"
   ]
  },
  {
   "cell_type": "code",
   "execution_count": null,
   "id": "4efabdbd",
   "metadata": {},
   "outputs": [],
   "source": [
    "#데이터 세개 합치기 Concat\n",
    "combine = pd.concat([df1, df2, df3], axis=0).reset_index(drop=True)\n",
    "combine"
   ]
  },
  {
   "cell_type": "code",
   "execution_count": null,
   "id": "a8d9f0c2",
   "metadata": {},
   "outputs": [],
   "source": [
    "# 본문 추출 확인 (첫번째만)\n",
    "combine.Texts[0]"
   ]
  },
  {
   "cell_type": "markdown",
   "id": "a8950fde",
   "metadata": {},
   "source": [
    "### 5. Spots 컬럼 추가"
   ]
  },
  {
   "cell_type": "code",
   "execution_count": 22,
   "id": "87aac1a0",
   "metadata": {},
   "outputs": [
    {
     "data": {
      "text/plain": [
       "75"
      ]
     },
     "execution_count": 22,
     "metadata": {},
     "output_type": "execute_result"
    }
   ],
   "source": [
    "#75개 지역 추출\n",
    "df = pd.read_csv('data/관광지_리뷰수.csv')\n",
    "list = [li for li in df[df['Region']=='대전']['Spots']]\n",
    "len(list)"
   ]
  },
  {
   "cell_type": "code",
   "execution_count": 23,
   "id": "06e71265",
   "metadata": {},
   "outputs": [
    {
     "data": {
      "text/plain": [
       "3750"
      ]
     },
     "execution_count": 23,
     "metadata": {},
     "output_type": "execute_result"
    }
   ],
   "source": [
    "#75개 50개씩 반복\n",
    "spots = []\n",
    "for li in list:\n",
    "    for i in range(50):\n",
    "        spots.append(li)\n",
    "len(spots)"
   ]
  },
  {
   "cell_type": "code",
   "execution_count": 24,
   "id": "71b254dd",
   "metadata": {},
   "outputs": [
    {
     "data": {
      "text/html": [
       "<div>\n",
       "<style scoped>\n",
       "    .dataframe tbody tr th:only-of-type {\n",
       "        vertical-align: middle;\n",
       "    }\n",
       "\n",
       "    .dataframe tbody tr th {\n",
       "        vertical-align: top;\n",
       "    }\n",
       "\n",
       "    .dataframe thead th {\n",
       "        text-align: right;\n",
       "    }\n",
       "</style>\n",
       "<table border=\"1\" class=\"dataframe\">\n",
       "  <thead>\n",
       "    <tr style=\"text-align: right;\">\n",
       "      <th></th>\n",
       "      <th>Texts</th>\n",
       "    </tr>\n",
       "  </thead>\n",
       "  <tbody>\n",
       "    <tr>\n",
       "      <th>0</th>\n",
       "      <td>일요일에 다시한번 대전 한밭수목원을 찾았다\\n지난번 동원일부만 보고와서 이번엔 서원...</td>\n",
       "    </tr>\n",
       "    <tr>\n",
       "      <th>1</th>\n",
       "      <td>한밭수목원\\n대전광역시 서구 둔산대로 169\\n이제 곧 3월입니다.\\n날씨는 영상과...</td>\n",
       "    </tr>\n",
       "    <tr>\n",
       "      <th>2</th>\n",
       "      <td>어제 포스팅에 이어 대전에서 들렀던\\n한밭수목원 곤충생태관 포스팅!!\\n대전 곤충생...</td>\n",
       "    </tr>\n",
       "    <tr>\n",
       "      <th>3</th>\n",
       "      <td>안녕하세요?! 보링보링입니다. ^^*\\n얼마 전 낭군과 함께 두 아이를 데리고\\n대...</td>\n",
       "    </tr>\n",
       "    <tr>\n",
       "      <th>4</th>\n",
       "      <td>[4월 소식] #대전서구 #대전서구소식 #4월소식\\n서구로 떠나는 모험\\n대전시민의...</td>\n",
       "    </tr>\n",
       "    <tr>\n",
       "      <th>...</th>\n",
       "      <td>...</td>\n",
       "    </tr>\n",
       "    <tr>\n",
       "      <th>3745</th>\n",
       "      <td>향적산 치유의숲 가벼운 트레킹으로 생태숲을 즐기다!\\n◆ 태조 이성계가 국사를 논했...</td>\n",
       "    </tr>\n",
       "    <tr>\n",
       "      <th>3746</th>\n",
       "      <td>충청남도 서해안과 전라도 서해안은 초겨울 다설지로 유명하다. 겨울철 차가운 북서풍이...</td>\n",
       "    </tr>\n",
       "    <tr>\n",
       "      <th>3747</th>\n",
       "      <td>서천여행 서천 치유의숲에서의 힐링\\n요즘 많은 분이 산을 찾으면서 자신의 건강을 돌...</td>\n",
       "    </tr>\n",
       "    <tr>\n",
       "      <th>3748</th>\n",
       "      <td>제주도 3주 살기\\n제주도 유모차 가능\\n제주도 아기랑 가볼만한 곳\\n3일차\\n서귀...</td>\n",
       "    </tr>\n",
       "    <tr>\n",
       "      <th>3749</th>\n",
       "      <td>일자:2024년1월20일(2024-04).\\n구간:전남 화순군 화순읍 동구리 무등산...</td>\n",
       "    </tr>\n",
       "  </tbody>\n",
       "</table>\n",
       "<p>3750 rows × 1 columns</p>\n",
       "</div>"
      ],
      "text/plain": [
       "                                                  Texts\n",
       "0     일요일에 다시한번 대전 한밭수목원을 찾았다\\n지난번 동원일부만 보고와서 이번엔 서원...\n",
       "1     한밭수목원\\n대전광역시 서구 둔산대로 169\\n이제 곧 3월입니다.\\n날씨는 영상과...\n",
       "2     어제 포스팅에 이어 대전에서 들렀던\\n한밭수목원 곤충생태관 포스팅!!\\n대전 곤충생...\n",
       "3     안녕하세요?! 보링보링입니다. ^^*\\n얼마 전 낭군과 함께 두 아이를 데리고\\n대...\n",
       "4     [4월 소식] #대전서구 #대전서구소식 #4월소식\\n서구로 떠나는 모험\\n대전시민의...\n",
       "...                                                 ...\n",
       "3745  향적산 치유의숲 가벼운 트레킹으로 생태숲을 즐기다!\\n◆ 태조 이성계가 국사를 논했...\n",
       "3746  충청남도 서해안과 전라도 서해안은 초겨울 다설지로 유명하다. 겨울철 차가운 북서풍이...\n",
       "3747  서천여행 서천 치유의숲에서의 힐링\\n요즘 많은 분이 산을 찾으면서 자신의 건강을 돌...\n",
       "3748  제주도 3주 살기\\n제주도 유모차 가능\\n제주도 아기랑 가볼만한 곳\\n3일차\\n서귀...\n",
       "3749  일자:2024년1월20일(2024-04).\\n구간:전남 화순군 화순읍 동구리 무등산...\n",
       "\n",
       "[3750 rows x 1 columns]"
      ]
     },
     "execution_count": 24,
     "metadata": {},
     "output_type": "execute_result"
    }
   ],
   "source": [
    "# dataframe에 spots 컬럼 추가\n",
    "combine = pd.read_csv('data/최종_대전.csv')\n",
    "combine"
   ]
  },
  {
   "cell_type": "markdown",
   "id": "191d5852",
   "metadata": {},
   "source": [
    "### 6. 최종 파일 저장"
   ]
  },
  {
   "cell_type": "code",
   "execution_count": 26,
   "id": "ec4e80c2",
   "metadata": {},
   "outputs": [],
   "source": [
    "#최종 파일 저장\n",
    "combine.to_csv('최종_대전.csv', index=False, encoding='utf-8')"
   ]
  },
  {
   "cell_type": "code",
   "execution_count": 27,
   "id": "b106501e",
   "metadata": {},
   "outputs": [
    {
     "data": {
      "text/html": [
       "<div>\n",
       "<style scoped>\n",
       "    .dataframe tbody tr th:only-of-type {\n",
       "        vertical-align: middle;\n",
       "    }\n",
       "\n",
       "    .dataframe tbody tr th {\n",
       "        vertical-align: top;\n",
       "    }\n",
       "\n",
       "    .dataframe thead th {\n",
       "        text-align: right;\n",
       "    }\n",
       "</style>\n",
       "<table border=\"1\" class=\"dataframe\">\n",
       "  <thead>\n",
       "    <tr style=\"text-align: right;\">\n",
       "      <th></th>\n",
       "      <th>Texts</th>\n",
       "      <th>Spots</th>\n",
       "    </tr>\n",
       "  </thead>\n",
       "  <tbody>\n",
       "    <tr>\n",
       "      <th>0</th>\n",
       "      <td>일요일에 다시한번 대전 한밭수목원을 찾았다\\n지난번 동원일부만 보고와서 이번엔 서원...</td>\n",
       "      <td>한밭수목원</td>\n",
       "    </tr>\n",
       "    <tr>\n",
       "      <th>1</th>\n",
       "      <td>한밭수목원\\n대전광역시 서구 둔산대로 169\\n이제 곧 3월입니다.\\n날씨는 영상과...</td>\n",
       "      <td>한밭수목원</td>\n",
       "    </tr>\n",
       "    <tr>\n",
       "      <th>2</th>\n",
       "      <td>어제 포스팅에 이어 대전에서 들렀던\\n한밭수목원 곤충생태관 포스팅!!\\n대전 곤충생...</td>\n",
       "      <td>한밭수목원</td>\n",
       "    </tr>\n",
       "    <tr>\n",
       "      <th>3</th>\n",
       "      <td>안녕하세요?! 보링보링입니다. ^^*\\n얼마 전 낭군과 함께 두 아이를 데리고\\n대...</td>\n",
       "      <td>한밭수목원</td>\n",
       "    </tr>\n",
       "    <tr>\n",
       "      <th>4</th>\n",
       "      <td>[4월 소식] #대전서구 #대전서구소식 #4월소식\\n서구로 떠나는 모험\\n대전시민의...</td>\n",
       "      <td>한밭수목원</td>\n",
       "    </tr>\n",
       "    <tr>\n",
       "      <th>...</th>\n",
       "      <td>...</td>\n",
       "      <td>...</td>\n",
       "    </tr>\n",
       "    <tr>\n",
       "      <th>3745</th>\n",
       "      <td>향적산 치유의숲 가벼운 트레킹으로 생태숲을 즐기다!\\n◆ 태조 이성계가 국사를 논했...</td>\n",
       "      <td>치유의숲</td>\n",
       "    </tr>\n",
       "    <tr>\n",
       "      <th>3746</th>\n",
       "      <td>충청남도 서해안과 전라도 서해안은 초겨울 다설지로 유명하다. 겨울철 차가운 북서풍이...</td>\n",
       "      <td>치유의숲</td>\n",
       "    </tr>\n",
       "    <tr>\n",
       "      <th>3747</th>\n",
       "      <td>서천여행 서천 치유의숲에서의 힐링\\n요즘 많은 분이 산을 찾으면서 자신의 건강을 돌...</td>\n",
       "      <td>치유의숲</td>\n",
       "    </tr>\n",
       "    <tr>\n",
       "      <th>3748</th>\n",
       "      <td>제주도 3주 살기\\n제주도 유모차 가능\\n제주도 아기랑 가볼만한 곳\\n3일차\\n서귀...</td>\n",
       "      <td>치유의숲</td>\n",
       "    </tr>\n",
       "    <tr>\n",
       "      <th>3749</th>\n",
       "      <td>일자:2024년1월20일(2024-04).\\n구간:전남 화순군 화순읍 동구리 무등산...</td>\n",
       "      <td>치유의숲</td>\n",
       "    </tr>\n",
       "  </tbody>\n",
       "</table>\n",
       "<p>3750 rows × 2 columns</p>\n",
       "</div>"
      ],
      "text/plain": [
       "                                                  Texts  Spots\n",
       "0     일요일에 다시한번 대전 한밭수목원을 찾았다\\n지난번 동원일부만 보고와서 이번엔 서원...  한밭수목원\n",
       "1     한밭수목원\\n대전광역시 서구 둔산대로 169\\n이제 곧 3월입니다.\\n날씨는 영상과...  한밭수목원\n",
       "2     어제 포스팅에 이어 대전에서 들렀던\\n한밭수목원 곤충생태관 포스팅!!\\n대전 곤충생...  한밭수목원\n",
       "3     안녕하세요?! 보링보링입니다. ^^*\\n얼마 전 낭군과 함께 두 아이를 데리고\\n대...  한밭수목원\n",
       "4     [4월 소식] #대전서구 #대전서구소식 #4월소식\\n서구로 떠나는 모험\\n대전시민의...  한밭수목원\n",
       "...                                                 ...    ...\n",
       "3745  향적산 치유의숲 가벼운 트레킹으로 생태숲을 즐기다!\\n◆ 태조 이성계가 국사를 논했...   치유의숲\n",
       "3746  충청남도 서해안과 전라도 서해안은 초겨울 다설지로 유명하다. 겨울철 차가운 북서풍이...   치유의숲\n",
       "3747  서천여행 서천 치유의숲에서의 힐링\\n요즘 많은 분이 산을 찾으면서 자신의 건강을 돌...   치유의숲\n",
       "3748  제주도 3주 살기\\n제주도 유모차 가능\\n제주도 아기랑 가볼만한 곳\\n3일차\\n서귀...   치유의숲\n",
       "3749  일자:2024년1월20일(2024-04).\\n구간:전남 화순군 화순읍 동구리 무등산...   치유의숲\n",
       "\n",
       "[3750 rows x 2 columns]"
      ]
     },
     "execution_count": 27,
     "metadata": {},
     "output_type": "execute_result"
    }
   ],
   "source": [
    "#파일 확인\n",
    "check = pd.read_csv('data/최종_대전.csv')\n",
    "check"
   ]
  },
  {
   "cell_type": "code",
   "execution_count": null,
   "id": "4f4445b8",
   "metadata": {},
   "outputs": [],
   "source": []
  }
 ],
 "metadata": {
  "kernelspec": {
   "display_name": "Python 3 (ipykernel)",
   "language": "python",
   "name": "python3"
  },
  "language_info": {
   "codemirror_mode": {
    "name": "ipython",
    "version": 3
   },
   "file_extension": ".py",
   "mimetype": "text/x-python",
   "name": "python",
   "nbconvert_exporter": "python",
   "pygments_lexer": "ipython3",
   "version": "3.11.8"
  }
 },
 "nbformat": 4,
 "nbformat_minor": 5
}
