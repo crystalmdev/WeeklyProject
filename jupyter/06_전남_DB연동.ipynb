{
 "cells": [
  {
   "cell_type": "code",
   "execution_count": 1,
   "id": "0f661ede-39b5-416d-9d68-3596d87f6a1f",
   "metadata": {},
   "outputs": [],
   "source": [
    "import pymysql"
   ]
  },
  {
   "cell_type": "code",
   "execution_count": 2,
   "id": "ea3a6ecc-8123-4f58-9ae1-3309fbb84ad3",
   "metadata": {},
   "outputs": [],
   "source": [
    "import pandas as pd"
   ]
  },
  {
   "cell_type": "code",
   "execution_count": 3,
   "id": "fca0d4ec-4ea7-4ae4-88a8-3ff983ce0383",
   "metadata": {},
   "outputs": [],
   "source": [
    "conn = pymysql.connect(host='127.0.0.1', \n",
    "                       user='root',\n",
    "                       password='1234',\n",
    "                       db='weekproject', charset='utf8')"
   ]
  },
  {
   "cell_type": "code",
   "execution_count": 4,
   "id": "ffcb60d3-b210-46c7-b056-699f455fbd78",
   "metadata": {},
   "outputs": [],
   "source": [
    "cur = conn.cursor()"
   ]
  },
  {
   "cell_type": "markdown",
   "id": "5398f37f-983d-407b-8526-1b3e47233497",
   "metadata": {},
   "source": [
    "### 전남"
   ]
  },
  {
   "cell_type": "code",
   "execution_count": 5,
   "id": "a00f49b6-dd4a-42e7-a505-bbc2f8703f83",
   "metadata": {},
   "outputs": [
    {
     "data": {
      "text/plain": [
       "0"
      ]
     },
     "execution_count": 5,
     "metadata": {},
     "output_type": "execute_result"
    }
   ],
   "source": [
    "sql1 = 'drop table if exists jeonnam;'\n",
    "cur.execute(sql1)\n",
    "\n",
    "sql2 = '''\n",
    "        create table jeonnam (\n",
    "        Tour_id int not null primary key,\n",
    "        Tour_spot varchar(40) not null,\n",
    "        Tour_link varchar(100)\n",
    "        );'''\n",
    "\n",
    "\n",
    "cur.execute(sql2)"
   ]
  },
  {
   "cell_type": "code",
   "execution_count": 6,
   "id": "8c8cd012-0ec6-4e0e-adb2-fc06f21cac24",
   "metadata": {},
   "outputs": [
    {
     "data": {
      "text/plain": [
       "5"
      ]
     },
     "execution_count": 6,
     "metadata": {},
     "output_type": "execute_result"
    }
   ],
   "source": [
    "# 전남\n",
    "# ['목포해상케이블카 북항승강장', '순천만국가정원', '이순신광장', '순천만습지', '담양관방제림']\n",
    "sql = '''\n",
    "    insert into jeonnam values\n",
    "    \t(1, '목포해상케이블카 북항승강장', 'http://www.mmcablecar.com/'),\n",
    "    \t(2, '순천만국가정원', 'scbay.suncheon.go.kr'),\n",
    "    \t(3, '이순신광장', 'https://korean.visitkorea.or.kr/detail/ms_detail.do?cotid=02d5ad3e-9d68-4812-842a-b3a1cbb2f7cb'),\n",
    "    \t(4, '순천만습지', 'https://scbay.suncheon.go.kr/wetland'),\n",
    "    \t(5, '담양관방제림', 'https://korean.visitkorea.or.kr/detail/ms_detail.do?cotid=2cb8fa15-499c-466c-9094-73b5d5e818af'); '''\n",
    "cur.execute(sql)"
   ]
  },
  {
   "cell_type": "code",
   "execution_count": 7,
   "id": "58e43929-0107-443a-82da-752ff0093125",
   "metadata": {},
   "outputs": [],
   "source": [
    "conn.commit()"
   ]
  },
  {
   "cell_type": "code",
   "execution_count": 8,
   "id": "f7b3924d-1f4e-41e0-acf1-8c73886ab6e2",
   "metadata": {},
   "outputs": [],
   "source": [
    "conn = pymysql.connect(host='127.0.0.1', \n",
    "                       user='root',\n",
    "                       password='1234',\n",
    "                       db='weekproject', charset='utf8')"
   ]
  },
  {
   "cell_type": "code",
   "execution_count": 9,
   "id": "10d39e2b-2c99-4084-820c-c75ea7cb3435",
   "metadata": {},
   "outputs": [],
   "source": [
    "cur = conn.cursor()"
   ]
  },
  {
   "cell_type": "code",
   "execution_count": 10,
   "id": "1d40a5d6-00a6-4129-b65b-1b10d6bbdbaa",
   "metadata": {},
   "outputs": [
    {
     "data": {
      "text/plain": [
       "((1, '목포해상케이블카 북항승강장', 'http://www.mmcablecar.com/'),\n",
       " (2, '순천만국가정원', 'scbay.suncheon.go.kr'),\n",
       " (3,\n",
       "  '이순신광장',\n",
       "  'https://korean.visitkorea.or.kr/detail/ms_detail.do?cotid=02d5ad3e-9d68-4812-842a-b3a1cbb2f7cb'),\n",
       " (4, '순천만습지', 'https://scbay.suncheon.go.kr/wetland'),\n",
       " (5,\n",
       "  '담양관방제림',\n",
       "  'https://korean.visitkorea.or.kr/detail/ms_detail.do?cotid=2cb8fa15-499c-466c-9094-73b5d5e818af'))"
      ]
     },
     "execution_count": 10,
     "metadata": {},
     "output_type": "execute_result"
    }
   ],
   "source": [
    "sql = 'select * from jeonnam; '\n",
    "cur.execute(sql)\n",
    "rows2 = cur.fetchall()\n",
    "rows2"
   ]
  },
  {
   "cell_type": "code",
   "execution_count": 11,
   "id": "8b575b09-9cab-4436-a966-9f90ad24ca38",
   "metadata": {
    "scrolled": true
   },
   "outputs": [
    {
     "data": {
      "text/html": [
       "<div>\n",
       "<style scoped>\n",
       "    .dataframe tbody tr th:only-of-type {\n",
       "        vertical-align: middle;\n",
       "    }\n",
       "\n",
       "    .dataframe tbody tr th {\n",
       "        vertical-align: top;\n",
       "    }\n",
       "\n",
       "    .dataframe thead th {\n",
       "        text-align: right;\n",
       "    }\n",
       "</style>\n",
       "<table border=\"1\" class=\"dataframe\">\n",
       "  <thead>\n",
       "    <tr style=\"text-align: right;\">\n",
       "      <th></th>\n",
       "      <th>id</th>\n",
       "      <th>spot</th>\n",
       "      <th>link</th>\n",
       "    </tr>\n",
       "  </thead>\n",
       "  <tbody>\n",
       "    <tr>\n",
       "      <th>0</th>\n",
       "      <td>1</td>\n",
       "      <td>목포해상케이블카 북항승강장</td>\n",
       "      <td>http://www.mmcablecar.com/</td>\n",
       "    </tr>\n",
       "    <tr>\n",
       "      <th>1</th>\n",
       "      <td>2</td>\n",
       "      <td>순천만국가정원</td>\n",
       "      <td>scbay.suncheon.go.kr</td>\n",
       "    </tr>\n",
       "    <tr>\n",
       "      <th>2</th>\n",
       "      <td>3</td>\n",
       "      <td>이순신광장</td>\n",
       "      <td>https://korean.visitkorea.or.kr/detail/ms_deta...</td>\n",
       "    </tr>\n",
       "    <tr>\n",
       "      <th>3</th>\n",
       "      <td>4</td>\n",
       "      <td>순천만습지</td>\n",
       "      <td>https://scbay.suncheon.go.kr/wetland</td>\n",
       "    </tr>\n",
       "    <tr>\n",
       "      <th>4</th>\n",
       "      <td>5</td>\n",
       "      <td>담양관방제림</td>\n",
       "      <td>https://korean.visitkorea.or.kr/detail/ms_deta...</td>\n",
       "    </tr>\n",
       "  </tbody>\n",
       "</table>\n",
       "</div>"
      ],
      "text/plain": [
       "   id            spot                                               link\n",
       "0   1  목포해상케이블카 북항승강장                         http://www.mmcablecar.com/\n",
       "1   2         순천만국가정원                               scbay.suncheon.go.kr\n",
       "2   3           이순신광장  https://korean.visitkorea.or.kr/detail/ms_deta...\n",
       "3   4           순천만습지               https://scbay.suncheon.go.kr/wetland\n",
       "4   5          담양관방제림  https://korean.visitkorea.or.kr/detail/ms_deta..."
      ]
     },
     "execution_count": 11,
     "metadata": {},
     "output_type": "execute_result"
    }
   ],
   "source": [
    "pd.DataFrame(rows2, columns=['id','spot','link'])"
   ]
  },
  {
   "cell_type": "code",
   "execution_count": 12,
   "id": "0c286b75-8e70-452f-ab01-b85e0f56ad3c",
   "metadata": {},
   "outputs": [],
   "source": [
    "conn.close()"
   ]
  },
  {
   "cell_type": "code",
   "execution_count": 13,
   "id": "833b1942-d3d3-498e-8358-e5054d1667e9",
   "metadata": {},
   "outputs": [],
   "source": [
    "def connectMysql(db_name):\n",
    "    host='127.0.0.1' \n",
    "    port=3306\n",
    "    user='root'\n",
    "    password='1234'\n",
    "    conn = pymysql.connect(host=host, port=port,\n",
    "                           user=user, password=password,\n",
    "                           db=db_name, charset='utf8')\n",
    "    print(type(conn))\n",
    "    return conn"
   ]
  },
  {
   "cell_type": "code",
   "execution_count": 14,
   "id": "090bcad9-34df-4a50-ac9d-55d4c9410d57",
   "metadata": {},
   "outputs": [
    {
     "name": "stdout",
     "output_type": "stream",
     "text": [
      "<class 'pymysql.connections.Connection'>\n"
     ]
    }
   ],
   "source": [
    "conn = connectMysql('weekproject')\n",
    "\n",
    "cur = conn.cursor()\n",
    "sql = 'select * from gyeongnam; '\n",
    "cur.execute(sql)\n",
    "rows = cur.fetchall()\n",
    "rows\n",
    "\n",
    "conn.close()"
   ]
  },
  {
   "cell_type": "code",
   "execution_count": 15,
   "id": "655e8a3c-1a82-4c15-b743-1716d85b0b01",
   "metadata": {},
   "outputs": [],
   "source": [
    "df = pd.DataFrame(rows, columns = ['id','spot','link'])"
   ]
  }
 ],
 "metadata": {
  "kernelspec": {
   "display_name": "Python 3 (ipykernel)",
   "language": "python",
   "name": "python3"
  },
  "language_info": {
   "codemirror_mode": {
    "name": "ipython",
    "version": 3
   },
   "file_extension": ".py",
   "mimetype": "text/x-python",
   "name": "python",
   "nbconvert_exporter": "python",
   "pygments_lexer": "ipython3",
   "version": "3.11.7"
  }
 },
 "nbformat": 4,
 "nbformat_minor": 5
}
